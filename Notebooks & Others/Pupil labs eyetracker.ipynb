{
 "cells": [
  {
   "cell_type": "code",
   "execution_count": 130,
   "metadata": {},
   "outputs": [],
   "source": [
    "import pandas as pd\n",
    "import json\n",
    "import numpy as np\n",
    "import cv2 as cv\n",
    "import os\n",
    "\n",
    "from functools import partial\n",
    "import multiprocessing  \n",
    "from multiprocessing import Pool\n",
    "\n",
    "from classes import Class_device, Class_unity, Class_frame, Class_video, Class_pup"
   ]
  },
  {
   "cell_type": "code",
   "execution_count": 131,
   "metadata": {},
   "outputs": [],
   "source": [
    "# nodige bestandslocaties\n",
    "PUP = Class_pup()\n",
    "# MP4\n",
    "PUP.input_path_mp4 = 'PupilLabs_IO/input/world.mp4'\n",
    "PUP.output_path_mp4 = 'PupilLabs_IO/output_MP4/world.mp4'\n",
    "# CSV\n",
    "PUP.input_path_csv = 'PupilLabs_IO/input/gaze_positions.csv' \n",
    "PUP.input_file_csv_fixations = 'PupilLabs_IO/input/fixations.csv' \n",
    "# PKL\n",
    "PUP.output_path_pkl = 'PupilLabs_IO/output_PKL/' \n",
    "PUP.output_file_pkl_df_header = 'pkl_df_header.pkl' \n",
    "PUP.output_file_pkl_df_body = 'pkl_df_body.pkl' "
   ]
  },
  {
   "cell_type": "code",
   "execution_count": 132,
   "metadata": {},
   "outputs": [],
   "source": [
    "# frame properties ophalen\n",
    "cap = cv.VideoCapture(PUP.input_path_mp4)\n",
    "\n",
    "frame_obj = Class_frame()\n",
    "frame_obj.width = int(cap.get(cv.CAP_PROP_FRAME_WIDTH))\n",
    "frame_obj.height = int(cap.get(cv.CAP_PROP_FRAME_HEIGHT))\n",
    "frame_obj.rate = int(cap.get(cv.CAP_PROP_FPS))\n",
    "frame_obj.total = int(cap.get(cv.CAP_PROP_FRAME_COUNT))\n",
    "\n",
    "cap.release()\n",
    "# frame_obj.number = df_body['frame_number'].iloc[:]"
   ]
  },
  {
   "cell_type": "code",
   "execution_count": 133,
   "metadata": {},
   "outputs": [],
   "source": [
    "# video properties ophalen\n",
    "video_obj =  Class_video()\n",
    "video_obj.window_name = \"Pupil Labs Core Eyetracker\"\n",
    "video_obj.input_file = PUP.input_path_mp4\n",
    "video_obj.output_file = PUP.output_path_mp4\n",
    "video_obj.nr_of_frames = frame_obj.total"
   ]
  },
  {
   "cell_type": "code",
   "execution_count": 134,
   "metadata": {},
   "outputs": [],
   "source": [
    "df_body = pd.read_csv(PUP.input_path_csv)[['world_index', 'norm_pos_x', 'norm_pos_y']]\n",
    "df_body = df_body.rename(columns = {'world_index': 'frame_number', 'norm_pos_x': 'px_eye_2d_x', 'norm_pos_y': 'px_eye_2d_y'})\n",
    "df_body = df_body.drop_duplicates(subset = 'frame_number', keep = 'first').reset_index(drop=True)\n",
    "\n",
    "df_body['px_eye_2d_x'] = (df_body['px_eye_2d_x'] * frame_obj.width).astype(int)\n",
    "df_body['px_eye_2d_y'] = (df_body['px_eye_2d_y'] * frame_obj.height).astype(int)\n",
    "\n",
    "df_body['px_eye_2d_y'] = frame_obj.height - df_body['px_eye_2d_y']"
   ]
  },
  {
   "cell_type": "code",
   "execution_count": 135,
   "metadata": {},
   "outputs": [],
   "source": [
    "def checkFixation(frame, fixations):\n",
    "    fixations = fixations[fixations['end_frame_index'] > frame['frame_number']]\n",
    "    for index, row in fixations.iterrows():\n",
    "        if frame['frame_number'] in range(row['start_frame_index'], row['end_frame_index']+1):\n",
    "#             print(str(frame['frame_number']) + \" 1\", end=\"\\r\")\n",
    "            return 1\n",
    "#     print(str(frame['frame_number']) + \" 0\", end=\"\\r\")\n",
    "    return 0\n",
    "\n",
    "fixations = pd.read_csv(PUP.input_file_csv_fixations)\n",
    "df_body['Fixation'] = df_body.apply(lambda frame: checkFixation(frame, fixations), axis=1) #fixaties toevoegen "
   ]
  },
  {
   "cell_type": "code",
   "execution_count": 136,
   "metadata": {},
   "outputs": [],
   "source": [
    "def labelimg(img, data):\n",
    "    height, width, channels = img.shape\n",
    "\n",
    "    # Detecting objects\n",
    "    blob = cv.dnn.blobFromImage(img, 0.00392, (416, 416), (0, 0, 0), True, crop=False)\n",
    "    net.setInput(blob)\n",
    "    outs = net.forward(output_layers)\n",
    "\n",
    "    # Showing informations on the screen\n",
    "    class_ids, confidences, boxes = [], [], []\n",
    "    # confidences = []\n",
    "    # boxes = []\n",
    "    for out in outs:\n",
    "        for detection in out:\n",
    "            scores = detection[5:]\n",
    "            class_id = np.argmax(scores)\n",
    "            confidence = scores[class_id]\n",
    "            if confidence > 0.3:\n",
    "                # Object detected\n",
    "#                 print(class_id)\n",
    "                center_x = int(detection[0] * width)\n",
    "                center_y = int(detection[1] * height)\n",
    "                w = int(detection[2] * width)\n",
    "                h = int(detection[3] * height)\n",
    "\n",
    "                # Rectangle coordinates\n",
    "                x = int(center_x - w / 2)\n",
    "                y = int(center_y - h / 2)\n",
    "\n",
    "                boxes.append([x, y, w, h])\n",
    "                confidences.append(float(confidence))\n",
    "                class_ids.append(class_id)\n",
    "                \n",
    "\n",
    "    indexes = cv.dnn.NMSBoxes(boxes, confidences, 0.5, 0.4)\n",
    "#     print(indexes)\n",
    "    font = cv.FONT_HERSHEY_PLAIN\n",
    "    for i in range(len(boxes)):\n",
    "        if i in indexes:\n",
    "            x, y, w, h = boxes[i]\n",
    "            label = str(classes[class_ids[i]])\n",
    "            color = colors[class_ids[i]]\n",
    "            cv.rectangle(img, (x, y), (x + w, y + h), color, 2)\n",
    "            cv.putText(img, label, (x, y + 30), font, 2, color, 2)\n",
    "\n",
    "            if int(data[\"px_eye_2d_x\"]) in range(x, x + w) and int(data[\"px_eye_2d_y\"]) in range(y, y + h):\n",
    "#                 print(\"looking at: %s        \" % (label), end=\"\\r\")\n",
    "                data[\"objectId\"] = class_ids[i]\n",
    "                data[\"object\"] = classes[int(class_ids[i])]\n",
    "\n",
    "    return img, data"
   ]
  },
  {
   "cell_type": "code",
   "execution_count": 137,
   "metadata": {},
   "outputs": [],
   "source": [
    "def create_video(data, video, frame):\n",
    "    if os.path.exists(video.output_file):\n",
    "        os.remove(video.output_file)\n",
    "\n",
    "    cv.namedWindow(video.window_name)\n",
    "\n",
    "    cap = cv.VideoCapture(video.input_file)\n",
    "    codec = cv.VideoWriter_fourcc('m', 'p', '4', 'v')\n",
    "    out = cv.VideoWriter(video.output_file, codec, frame.rate, (frame.width, frame.height))  # MP4\n",
    "    \n",
    "    df_body[\"objectId\"] = np.nan\n",
    "    df_body[\"object\"] = np.nan\n",
    "    current_frame = 0\n",
    "    try:\n",
    "        while cap.isOpened():\n",
    "            ret, img = cap.read()\n",
    "            if ret is True and current_frame < video.nr_of_frames:\n",
    "                if data['Fixation'][current_frame] == 1: #wel een fixation\n",
    "                    img, serie = labelimg(img, data.iloc[[current_frame]])\n",
    "                    data.iloc[[current_frame]] = serie\n",
    "                    cv.circle(img, (data[\"px_eye_2d_x\"][current_frame], data[\"px_eye_2d_y\"][current_frame]), 30, (255, 255, 255), 3)\n",
    "                if data['Fixation'][current_frame] == 0: #geen fixation\n",
    "                    cv.circle(img, (data[\"px_eye_2d_x\"][current_frame], data[\"px_eye_2d_y\"][current_frame]), 30, (0, 0, 255), 3)\n",
    "                \n",
    "                out.write(img)\n",
    "                cv.imshow(video.window_name, img)\n",
    "                \n",
    "                if cv.waitKey(1) & 0xFF == ord('q'):\n",
    "                    break\n",
    "                current_frame = current_frame + 1\n",
    "            else:\n",
    "                break\n",
    "\n",
    "        cap.release()\n",
    "        out.release()\n",
    "        cv.destroyAllWindows()\n",
    "    except Exception as e:\n",
    "        print('error')\n",
    "        print(e)\n",
    "        cap.release()\n",
    "        out.release()\n",
    "        cv.destroyAllWindows()\n",
    "    return data"
   ]
  },
  {
   "cell_type": "code",
   "execution_count": 138,
   "metadata": {},
   "outputs": [
    {
     "name": "stderr",
     "output_type": "stream",
     "text": [
      "c:\\users\\robbe brandse\\appdata\\local\\programs\\python\\python37\\lib\\site-packages\\ipykernel_launcher.py:48: SettingWithCopyWarning: \n",
      "A value is trying to be set on a copy of a slice from a DataFrame.\n",
      "Try using .loc[row_indexer,col_indexer] = value instead\n",
      "\n",
      "See the caveats in the documentation: https://pandas.pydata.org/pandas-docs/stable/user_guide/indexing.html#returning-a-view-versus-a-copy\n",
      "c:\\users\\robbe brandse\\appdata\\local\\programs\\python\\python37\\lib\\site-packages\\ipykernel_launcher.py:49: SettingWithCopyWarning: \n",
      "A value is trying to be set on a copy of a slice from a DataFrame.\n",
      "Try using .loc[row_indexer,col_indexer] = value instead\n",
      "\n",
      "See the caveats in the documentation: https://pandas.pydata.org/pandas-docs/stable/user_guide/indexing.html#returning-a-view-versus-a-copy\n"
     ]
    }
   ],
   "source": [
    "#model goedzetten\n",
    "net = cv.dnn.readNet(\"weights/TinyWeightsV4.weights\", \"configs/TinyConfig.cfg\")  # weight en configuration file ophalen\n",
    "classes = [\"Jam\", \"Knife\", \"Bread\", \"Choco\"]\n",
    "\n",
    "layer_names = net.getLayerNames()\n",
    "output_layers = [layer_names[i[0] - 1] for i in net.getUnconnectedOutLayers()]\n",
    "colors = np.random.uniform(0, 255, size=(len(classes), 3))\n",
    "\n",
    "df_body = create_video(df_body, video_obj, frame_obj)"
   ]
  },
  {
   "cell_type": "code",
   "execution_count": 139,
   "metadata": {},
   "outputs": [
    {
     "data": {
      "text/html": [
       "<div>\n",
       "<style scoped>\n",
       "    .dataframe tbody tr th:only-of-type {\n",
       "        vertical-align: middle;\n",
       "    }\n",
       "\n",
       "    .dataframe tbody tr th {\n",
       "        vertical-align: top;\n",
       "    }\n",
       "\n",
       "    .dataframe thead th {\n",
       "        text-align: right;\n",
       "    }\n",
       "</style>\n",
       "<table border=\"1\" class=\"dataframe\">\n",
       "  <thead>\n",
       "    <tr style=\"text-align: right;\">\n",
       "      <th></th>\n",
       "      <th>frame_number</th>\n",
       "      <th>px_eye_2d_x</th>\n",
       "      <th>px_eye_2d_y</th>\n",
       "      <th>Fixation</th>\n",
       "      <th>objectId</th>\n",
       "      <th>object</th>\n",
       "    </tr>\n",
       "  </thead>\n",
       "  <tbody>\n",
       "    <tr>\n",
       "      <th>0</th>\n",
       "      <td>0</td>\n",
       "      <td>596</td>\n",
       "      <td>738</td>\n",
       "      <td>0</td>\n",
       "      <td>NaN</td>\n",
       "      <td>NaN</td>\n",
       "    </tr>\n",
       "    <tr>\n",
       "      <th>1</th>\n",
       "      <td>1</td>\n",
       "      <td>602</td>\n",
       "      <td>738</td>\n",
       "      <td>1</td>\n",
       "      <td>0.0</td>\n",
       "      <td>Jam</td>\n",
       "    </tr>\n",
       "    <tr>\n",
       "      <th>2</th>\n",
       "      <td>2</td>\n",
       "      <td>608</td>\n",
       "      <td>728</td>\n",
       "      <td>1</td>\n",
       "      <td>0.0</td>\n",
       "      <td>Jam</td>\n",
       "    </tr>\n",
       "    <tr>\n",
       "      <th>3</th>\n",
       "      <td>3</td>\n",
       "      <td>607</td>\n",
       "      <td>728</td>\n",
       "      <td>1</td>\n",
       "      <td>0.0</td>\n",
       "      <td>Jam</td>\n",
       "    </tr>\n",
       "    <tr>\n",
       "      <th>4</th>\n",
       "      <td>4</td>\n",
       "      <td>608</td>\n",
       "      <td>727</td>\n",
       "      <td>1</td>\n",
       "      <td>0.0</td>\n",
       "      <td>Jam</td>\n",
       "    </tr>\n",
       "    <tr>\n",
       "      <th>...</th>\n",
       "      <td>...</td>\n",
       "      <td>...</td>\n",
       "      <td>...</td>\n",
       "      <td>...</td>\n",
       "      <td>...</td>\n",
       "      <td>...</td>\n",
       "    </tr>\n",
       "    <tr>\n",
       "      <th>2746</th>\n",
       "      <td>2746</td>\n",
       "      <td>541</td>\n",
       "      <td>217</td>\n",
       "      <td>1</td>\n",
       "      <td>NaN</td>\n",
       "      <td>NaN</td>\n",
       "    </tr>\n",
       "    <tr>\n",
       "      <th>2747</th>\n",
       "      <td>2747</td>\n",
       "      <td>549</td>\n",
       "      <td>217</td>\n",
       "      <td>1</td>\n",
       "      <td>NaN</td>\n",
       "      <td>NaN</td>\n",
       "    </tr>\n",
       "    <tr>\n",
       "      <th>2748</th>\n",
       "      <td>2748</td>\n",
       "      <td>553</td>\n",
       "      <td>224</td>\n",
       "      <td>0</td>\n",
       "      <td>NaN</td>\n",
       "      <td>NaN</td>\n",
       "    </tr>\n",
       "    <tr>\n",
       "      <th>2749</th>\n",
       "      <td>2749</td>\n",
       "      <td>558</td>\n",
       "      <td>222</td>\n",
       "      <td>0</td>\n",
       "      <td>NaN</td>\n",
       "      <td>NaN</td>\n",
       "    </tr>\n",
       "    <tr>\n",
       "      <th>2750</th>\n",
       "      <td>2750</td>\n",
       "      <td>561</td>\n",
       "      <td>226</td>\n",
       "      <td>0</td>\n",
       "      <td>NaN</td>\n",
       "      <td>NaN</td>\n",
       "    </tr>\n",
       "  </tbody>\n",
       "</table>\n",
       "<p>2751 rows × 6 columns</p>\n",
       "</div>"
      ],
      "text/plain": [
       "      frame_number  px_eye_2d_x  px_eye_2d_y  Fixation  objectId object\n",
       "0                0          596          738         0       NaN    NaN\n",
       "1                1          602          738         1       0.0    Jam\n",
       "2                2          608          728         1       0.0    Jam\n",
       "3                3          607          728         1       0.0    Jam\n",
       "4                4          608          727         1       0.0    Jam\n",
       "...            ...          ...          ...       ...       ...    ...\n",
       "2746          2746          541          217         1       NaN    NaN\n",
       "2747          2747          549          217         1       NaN    NaN\n",
       "2748          2748          553          224         0       NaN    NaN\n",
       "2749          2749          558          222         0       NaN    NaN\n",
       "2750          2750          561          226         0       NaN    NaN\n",
       "\n",
       "[2751 rows x 6 columns]"
      ]
     },
     "execution_count": 139,
     "metadata": {},
     "output_type": "execute_result"
    }
   ],
   "source": [
    "df_body"
   ]
  },
  {
   "cell_type": "code",
   "execution_count": 140,
   "metadata": {},
   "outputs": [
    {
     "data": {
      "text/plain": [
       "<matplotlib.axes._subplots.AxesSubplot at 0x1e3812112b0>"
      ]
     },
     "execution_count": 140,
     "metadata": {},
     "output_type": "execute_result"
    },
    {
     "data": {
      "image/png": "[encoded data removed]",
      "text/plain": [
       "<Figure size 432x288 with 1 Axes>"
      ]
     },
     "metadata": {
      "needs_background": "light"
     },
     "output_type": "display_data"
    }
   ],
   "source": [
    "import seaborn as sns\n",
    "import matplotlib.pyplot as plt\n",
    "\n",
    "sns.countplot(data = df_body, x=\"object\")"
   ]
  },
  {
   "cell_type": "code",
   "execution_count": 141,
   "metadata": {},
   "outputs": [],
   "source": [
    "def interpolate(data, max_pointRange):\n",
    "    previous_point = {\"index\": 0, \"object\": None}\n",
    "    for index, row in data.iterrows():\n",
    "        if previous_point['object'] == None and row['object'] != None:\n",
    "            previous_point['object'] = row['object']\n",
    "            previous_point['index'] = row['frame_number']\n",
    "\n",
    "        if row['object'] != None:\n",
    "            if previous_point['object'] == row['object']:\n",
    "                if int(row['frame_number'] - previous_point['index']) in range(2, max_pointRange+1):\n",
    "                    for frame in range(int(previous_point['index'] +1) , int(row['frame_number'])):\n",
    "                        data.at[frame, \"object\"] = row['object']\n",
    "                        data.at[frame, \"objectId\"] = classes.index(row['object'])\n",
    "\n",
    "                previous_point['object'] = row['object']\n",
    "                previous_point['index'] = row['frame_number']\n",
    "    return data\n",
    "\n",
    "df_body = interpolate(df_body, 1000)"
   ]
  },
  {
   "cell_type": "code",
   "execution_count": 142,
   "metadata": {},
   "outputs": [],
   "source": [
    "def gantplot(df_body):\n",
    "    usefull = df_body.dropna()\n",
    "    viewed_classes = usefull['object'].unique()\n",
    "    print(viewed_classes)\n",
    "    graph_data = {}\n",
    "    for classname in viewed_classes:\n",
    "        graph_data[classname]= usefull[usefull['object'] == classname]\n",
    "        \n",
    "    fig, gnt = plt.subplots() \n",
    "\n",
    "    gnt.set_yticks(np.arange(10, len(viewed_classes)*10+1,10))\n",
    "    gnt.set_yticklabels(viewed_classes) \n",
    "    gnt.set_xlabel('tijdverloop') \n",
    "\n",
    "    gnt.set_yticklabels(viewed_classes) \n",
    "    gnt.grid(True) \n",
    "\n",
    "    colors= ['tab:blue','tab:red','tab:purple','tab:orange']\n",
    "    for key, val in graph_data.items():\n",
    "        output = [(row['frame_number'], 1) for index, row in val.iterrows()]\n",
    "        nr = list(viewed_classes).index(key)\n",
    "        gnt.broken_barh(output, (nr*10 + 5, 10),facecolors =colors[nr] )\n",
    "    plt.show()"
   ]
  },
  {
   "cell_type": "code",
   "execution_count": 143,
   "metadata": {},
   "outputs": [
    {
     "name": "stdout",
     "output_type": "stream",
     "text": [
      "['Jam' 'Choco' 'Bread' 'Knife']\n"
     ]
    },
    {
     "data": {
      "image/png": "[encoded data removed]",
      "text/plain": [
       "<Figure size 432x288 with 1 Axes>"
      ]
     },
     "metadata": {
      "needs_background": "light"
     },
     "output_type": "display_data"
    }
   ],
   "source": [
    "gantplot(df_body)"
   ]
  }
 ],
 "metadata": {
  "kernelspec": {
   "display_name": "Python 3",
   "language": "python",
   "name": "python3"
  },
  "language_info": {
   "codemirror_mode": {
    "name": "ipython",
    "version": 3
   },
   "file_extension": ".py",
   "mimetype": "text/x-python",
   "name": "python",
   "nbconvert_exporter": "python",
   "pygments_lexer": "ipython3",
   "version": "3.7.3"
  }
 },
 "nbformat": 4,
 "nbformat_minor": 4
}
