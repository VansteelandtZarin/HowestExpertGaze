{
 "cells": [
  {
   "cell_type": "code",
   "execution_count": 2,
   "metadata": {},
   "outputs": [],
   "source": [
    "import pandas as pd\n",
    "import json\n",
    "import re\n",
    "import os\n",
    "import numpy as np\n",
    "from sympy import Point3D, Line3D, Plane\n",
    "import cv2 as cv\n",
    "\n",
    "from functools import partial\n",
    "import multiprocessing  \n",
    "from multiprocessing import Pool\n",
    "import Vuelosophy_IO.workers as workers\n",
    "from classes import Class_device, Class_unity, Class_frame, Class_video"
   ]
  },
  {
   "cell_type": "code",
   "execution_count": 3,
   "metadata": {},
   "outputs": [],
   "source": [
    "    #Eerste bestand uit de input_H264 map halen, om deze dan te processen\n",
    "device_obj = Class_device()\n",
    "device_obj.path = './Vuelosophy_IO/'\n",
    "\n",
    "#H264\n",
    "device_obj.input_path_h264 = device_obj.path + 'input_H264/'\n",
    "filenames = os.listdir(device_obj.input_path_h264)\n",
    "\n",
    "\n",
    "device_obj.input_file_h264 = filenames[0] # AANPASSEN\n",
    "filenames[0] = filenames[0].rstrip(\".h264\")\n",
    "\n",
    "#MP4\n",
    "device_obj.output_path_mp4 = device_obj.path + 'output_MP4/'\n",
    "device_obj.output_file_mp4 = filenames[0] + '.mp4'# AANPASSEN\n",
    "\n",
    "#JSON\n",
    "device_obj.output_path_json = device_obj.path + 'output_JSON/'\n",
    "device_obj.output_file_json = filenames[0] + '.json' # AANPASSEN\n",
    "\n",
    "#PKL\n",
    "device_obj.output_path_pkl = device_obj.path + 'output_PKL/'\n",
    "device_obj.output_file_pkl = filenames[0] + '.pkl' # AANPASSEN"
   ]
  },
  {
   "cell_type": "code",
   "execution_count": 4,
   "metadata": {},
   "outputs": [],
   "source": [
    "# h264 bestand inlezen en omzetten naar een json bestand, om daar dan de data uit te halen\n",
    "def h264_to_json(path_h264, file_h264, path_json, file_json):\n",
    "    with open(path_h264 + file_h264, 'rb') as f:\n",
    "        data = f.read()\n",
    "    result = re.findall(b'(?<=\\xff\\xff\\xff\\xff\\xff)\\{.+?(?=\\x00\\x00\\x00\\x01)', data)\n",
    "    result = [str(part)[2:-1] for part in result]\n",
    "    regular_json = '[' + ',\\n'.join(result) + ']'\n",
    "    pretty_json = json.loads(regular_json)\n",
    "    with open(path_json + file_json, 'w') as f:\n",
    "        f.write(json.dumps(pretty_json, indent=4))\n",
    "        \n",
    "h264_to_json(device_obj.input_path_h264, device_obj.input_file_h264,  device_obj.output_path_json, device_obj.output_file_json)"
   ]
  },
  {
   "cell_type": "code",
   "execution_count": 5,
   "metadata": {},
   "outputs": [],
   "source": [
    "def json_to_pandas_df(path_json, file_json):\n",
    "    with open(path_json + file_json) as f:\n",
    "        data = json.load(f)\n",
    "    df_all = pd.json_normalize(data)\n",
    "    return df_all\n",
    "\n",
    "def split_all(df_all):\n",
    "    df_header = df_all.iloc[0][['width', 'height', 'frame_rate', 'frame_total']]   \n",
    "    df_header.rename({'width': 'frame_width', 'height': 'frame_height'}, inplace = True)\n",
    "    \n",
    "    df_header['frame_width'] = df_header['frame_width'].astype(int)\n",
    "    df_header['frame_height'] = df_header['frame_height'].astype(int)\n",
    "    df_header['frame_total'] = df_header['frame_total'].astype(int)\n",
    "\n",
    "    df_body = df_all.iloc[1:][['num', 'ft.x', 'ft.y', 'ft.z']]\n",
    "    df_body.rename(columns={'num': 'frame_number', 'ft.x': 'norm_eye_3d_x', 'ft.y': 'norm_eye_3d_y', 'ft.z': 'norm_eye_3d_z'}, inplace=True)\n",
    "    df_body['frame_number'] = df_body['frame_number'].astype(int)\n",
    "    \n",
    "    return df_header, df_body\n",
    "df_header, df_body = split_all(json_to_pandas_df(device_obj.output_path_json, device_obj.output_file_json))"
   ]
  },
  {
   "cell_type": "code",
   "execution_count": 6,
   "metadata": {},
   "outputs": [
    {
     "data": {
      "text/plain": [
       "frame_width        640\n",
       "frame_height       480\n",
       "frame_rate      60.108\n",
       "frame_total       1728\n",
       "Name: 0, dtype: object"
      ]
     },
     "execution_count": 6,
     "metadata": {},
     "output_type": "execute_result"
    }
   ],
   "source": [
    "df_header"
   ]
  },
  {
   "cell_type": "code",
   "execution_count": 6,
   "metadata": {},
   "outputs": [
    {
     "data": {
      "text/html": [
       "<div>\n",
       "<style scoped>\n",
       "    .dataframe tbody tr th:only-of-type {\n",
       "        vertical-align: middle;\n",
       "    }\n",
       "\n",
       "    .dataframe tbody tr th {\n",
       "        vertical-align: top;\n",
       "    }\n",
       "\n",
       "    .dataframe thead th {\n",
       "        text-align: right;\n",
       "    }\n",
       "</style>\n",
       "<table border=\"1\" class=\"dataframe\">\n",
       "  <thead>\n",
       "    <tr style=\"text-align: right;\">\n",
       "      <th></th>\n",
       "      <th>frame_number</th>\n",
       "      <th>norm_eye_3d_x</th>\n",
       "      <th>norm_eye_3d_y</th>\n",
       "      <th>norm_eye_3d_z</th>\n",
       "    </tr>\n",
       "  </thead>\n",
       "  <tbody>\n",
       "    <tr>\n",
       "      <th>1</th>\n",
       "      <td>0</td>\n",
       "      <td>0.273610</td>\n",
       "      <td>-0.305020</td>\n",
       "      <td>1.381467</td>\n",
       "    </tr>\n",
       "    <tr>\n",
       "      <th>2</th>\n",
       "      <td>1</td>\n",
       "      <td>0.273610</td>\n",
       "      <td>-0.305020</td>\n",
       "      <td>1.381467</td>\n",
       "    </tr>\n",
       "    <tr>\n",
       "      <th>3</th>\n",
       "      <td>2</td>\n",
       "      <td>0.272946</td>\n",
       "      <td>-0.305596</td>\n",
       "      <td>1.383329</td>\n",
       "    </tr>\n",
       "    <tr>\n",
       "      <th>4</th>\n",
       "      <td>3</td>\n",
       "      <td>0.268329</td>\n",
       "      <td>-0.309555</td>\n",
       "      <td>1.396922</td>\n",
       "    </tr>\n",
       "    <tr>\n",
       "      <th>5</th>\n",
       "      <td>4</td>\n",
       "      <td>0.268329</td>\n",
       "      <td>-0.309555</td>\n",
       "      <td>1.396922</td>\n",
       "    </tr>\n",
       "    <tr>\n",
       "      <th>...</th>\n",
       "      <td>...</td>\n",
       "      <td>...</td>\n",
       "      <td>...</td>\n",
       "      <td>...</td>\n",
       "    </tr>\n",
       "    <tr>\n",
       "      <th>1723</th>\n",
       "      <td>1722</td>\n",
       "      <td>0.210475</td>\n",
       "      <td>-0.353606</td>\n",
       "      <td>1.557996</td>\n",
       "    </tr>\n",
       "    <tr>\n",
       "      <th>1724</th>\n",
       "      <td>1723</td>\n",
       "      <td>0.210475</td>\n",
       "      <td>-0.353606</td>\n",
       "      <td>1.557996</td>\n",
       "    </tr>\n",
       "    <tr>\n",
       "      <th>1725</th>\n",
       "      <td>1724</td>\n",
       "      <td>0.220235</td>\n",
       "      <td>-0.342439</td>\n",
       "      <td>1.399009</td>\n",
       "    </tr>\n",
       "    <tr>\n",
       "      <th>1726</th>\n",
       "      <td>1725</td>\n",
       "      <td>0.229879</td>\n",
       "      <td>-0.328489</td>\n",
       "      <td>1.308425</td>\n",
       "    </tr>\n",
       "    <tr>\n",
       "      <th>1727</th>\n",
       "      <td>1726</td>\n",
       "      <td>0.229879</td>\n",
       "      <td>-0.328489</td>\n",
       "      <td>1.308425</td>\n",
       "    </tr>\n",
       "  </tbody>\n",
       "</table>\n",
       "<p>1727 rows × 4 columns</p>\n",
       "</div>"
      ],
      "text/plain": [
       "      frame_number  norm_eye_3d_x  norm_eye_3d_y  norm_eye_3d_z\n",
       "1                0       0.273610      -0.305020       1.381467\n",
       "2                1       0.273610      -0.305020       1.381467\n",
       "3                2       0.272946      -0.305596       1.383329\n",
       "4                3       0.268329      -0.309555       1.396922\n",
       "5                4       0.268329      -0.309555       1.396922\n",
       "...            ...            ...            ...            ...\n",
       "1723          1722       0.210475      -0.353606       1.557996\n",
       "1724          1723       0.210475      -0.353606       1.557996\n",
       "1725          1724       0.220235      -0.342439       1.399009\n",
       "1726          1725       0.229879      -0.328489       1.308425\n",
       "1727          1726       0.229879      -0.328489       1.308425\n",
       "\n",
       "[1727 rows x 4 columns]"
      ]
     },
     "execution_count": 6,
     "metadata": {},
     "output_type": "execute_result"
    }
   ],
   "source": [
    "df_body"
   ]
  },
  {
   "cell_type": "code",
   "execution_count": 7,
   "metadata": {},
   "outputs": [],
   "source": [
    "# Frame object -> zou kunnen we gemakkelijk aan alle nodige data voor bepaalde functies\n",
    "frame_obj = Class_frame()\n",
    "frame_obj.width = df_header['frame_width']\n",
    "frame_obj.height = df_header['frame_height']\n",
    "frame_obj.rate = df_header['frame_rate']\n",
    "frame_obj.total = df_header['frame_total']\n",
    "# frame_obj.number = df_body['frame_number']\n",
    "# frame_class.timestamp = round(frame_class.number / frame_class.rate, 3)"
   ]
  },
  {
   "cell_type": "code",
   "execution_count": 8,
   "metadata": {},
   "outputs": [],
   "source": [
    "unity_obj = Class_unity()\n",
    "unity_obj.width = 13.333\n",
    "unity_obj.height = 10\n",
    "unity_obj.distance= 12.678"
   ]
  },
  {
   "cell_type": "code",
   "execution_count": 9,
   "metadata": {},
   "outputs": [],
   "source": [
    "video_obj = Class_video()\n",
    "video_obj.window_name = 'eye tracking (Vuelosophy)' # AANPASSEN\n",
    "video_obj.nr_of_frames = frame_obj.total - 2\n",
    "video_obj.input_file = device_obj.input_path_h264 + device_obj.input_file_h264\n",
    "video_obj.output_file = device_obj.output_path_mp4 + device_obj.output_file_mp4"
   ]
  },
  {
   "cell_type": "markdown",
   "metadata": {},
   "source": [
    "***"
   ]
  },
  {
   "cell_type": "markdown",
   "metadata": {},
   "source": [
    "## Preprocessing"
   ]
  },
  {
   "cell_type": "code",
   "execution_count": 10,
   "metadata": {},
   "outputs": [],
   "source": [
    "def multiproc(func, data, cores = 0):\n",
    "    if __name__ == '__main__':\n",
    "        pool = None\n",
    "        if cores > 0:\n",
    "            print(\"using %s cores\"%cores)\n",
    "            pool = Pool(cores)\n",
    "        else:\n",
    "            print(\"using all cores\")\n",
    "            pool = Pool()\n",
    "        print(\"start processing \")\n",
    "        results = pool.map(func, data)\n",
    "        return results"
   ]
  },
  {
   "cell_type": "code",
   "execution_count": 1,
   "metadata": {},
   "outputs": [
    {
     "ename": "NameError",
     "evalue": "name 'df_body' is not defined",
     "output_type": "error",
     "traceback": [
      "\u001b[1;31m---------------------------------------------------------------------------\u001b[0m",
      "\u001b[1;31mNameError\u001b[0m                                 Traceback (most recent call last)",
      "\u001b[1;32m<ipython-input-1-0cdc4609105a>\u001b[0m in \u001b[0;36m<module>\u001b[1;34m\u001b[0m\n\u001b[1;32m----> 1\u001b[1;33m \u001b[0mdf_body\u001b[0m\u001b[1;33m\u001b[0m\u001b[1;33m\u001b[0m\u001b[0m\n\u001b[0m",
      "\u001b[1;31mNameError\u001b[0m: name 'df_body' is not defined"
     ]
    }
   ],
   "source": [
    "df_body"
   ]
  },
  {
   "cell_type": "code",
   "execution_count": 11,
   "metadata": {},
   "outputs": [
    {
     "name": "stdout",
     "output_type": "stream",
     "text": [
      "using all cores\n",
      "start processing \n"
     ]
    }
   ],
   "source": [
    "columns = df_body.columns.values.tolist()\n",
    "columns.append(\"px_eye_2d_x\")\n",
    "columns.append(\"px_eye_2d_y\")\n",
    "\n",
    "data = df_body.values.tolist()\n",
    "func = partial(workers.coord_3d_to_2d, unity_obj, frame_obj)\n",
    "new_data = multiproc(func, data)\n",
    "\n",
    "df_body = pd.DataFrame(new_data, columns=columns)"
   ]
  },
  {
   "cell_type": "code",
   "execution_count": 12,
   "metadata": {},
   "outputs": [],
   "source": [
    "df_body.drop([\"norm_eye_3d_x\", \"norm_eye_3d_y\", \"norm_eye_3d_z\"], axis=1, inplace=True)"
   ]
  },
  {
   "cell_type": "code",
   "execution_count": 13,
   "metadata": {},
   "outputs": [
    {
     "data": {
      "text/html": [
       "<div>\n",
       "<style scoped>\n",
       "    .dataframe tbody tr th:only-of-type {\n",
       "        vertical-align: middle;\n",
       "    }\n",
       "\n",
       "    .dataframe tbody tr th {\n",
       "        vertical-align: top;\n",
       "    }\n",
       "\n",
       "    .dataframe thead th {\n",
       "        text-align: right;\n",
       "    }\n",
       "</style>\n",
       "<table border=\"1\" class=\"dataframe\">\n",
       "  <thead>\n",
       "    <tr style=\"text-align: right;\">\n",
       "      <th></th>\n",
       "      <th>frame_number</th>\n",
       "      <th>px_eye_2d_x</th>\n",
       "      <th>px_eye_2d_y</th>\n",
       "    </tr>\n",
       "  </thead>\n",
       "  <tbody>\n",
       "    <tr>\n",
       "      <th>0</th>\n",
       "      <td>0.0</td>\n",
       "      <td>199.470239580704</td>\n",
       "      <td>105.636970785404</td>\n",
       "    </tr>\n",
       "    <tr>\n",
       "      <th>1</th>\n",
       "      <td>1.0</td>\n",
       "      <td>199.470239580704</td>\n",
       "      <td>105.636970785404</td>\n",
       "    </tr>\n",
       "    <tr>\n",
       "      <th>2</th>\n",
       "      <td>2.0</td>\n",
       "      <td>199.924585388523</td>\n",
       "      <td>105.564437509804</td>\n",
       "    </tr>\n",
       "    <tr>\n",
       "      <th>3</th>\n",
       "      <td>3.0</td>\n",
       "      <td>203.104364217807</td>\n",
       "      <td>105.147919554564</td>\n",
       "    </tr>\n",
       "    <tr>\n",
       "      <th>4</th>\n",
       "      <td>4.0</td>\n",
       "      <td>203.104364217807</td>\n",
       "      <td>105.147919554564</td>\n",
       "    </tr>\n",
       "    <tr>\n",
       "      <th>...</th>\n",
       "      <td>...</td>\n",
       "      <td>...</td>\n",
       "      <td>...</td>\n",
       "    </tr>\n",
       "    <tr>\n",
       "      <th>1722</th>\n",
       "      <td>1722.0</td>\n",
       "      <td>237.787657630370</td>\n",
       "      <td>101.883592984834</td>\n",
       "    </tr>\n",
       "    <tr>\n",
       "      <th>1723</th>\n",
       "      <td>1723.0</td>\n",
       "      <td>237.787657630370</td>\n",
       "      <td>101.883592984834</td>\n",
       "    </tr>\n",
       "    <tr>\n",
       "      <th>1724</th>\n",
       "      <td>1724.0</td>\n",
       "      <td>224.199302155338</td>\n",
       "      <td>91.0451335080760</td>\n",
       "    </tr>\n",
       "    <tr>\n",
       "      <th>1725</th>\n",
       "      <td>1725.0</td>\n",
       "      <td>213.081389035987</td>\n",
       "      <td>87.2208876962760</td>\n",
       "    </tr>\n",
       "    <tr>\n",
       "      <th>1726</th>\n",
       "      <td>1726.0</td>\n",
       "      <td>213.081389035987</td>\n",
       "      <td>87.2208876962760</td>\n",
       "    </tr>\n",
       "  </tbody>\n",
       "</table>\n",
       "<p>1727 rows × 3 columns</p>\n",
       "</div>"
      ],
      "text/plain": [
       "      frame_number       px_eye_2d_x       px_eye_2d_y\n",
       "0              0.0  199.470239580704  105.636970785404\n",
       "1              1.0  199.470239580704  105.636970785404\n",
       "2              2.0  199.924585388523  105.564437509804\n",
       "3              3.0  203.104364217807  105.147919554564\n",
       "4              4.0  203.104364217807  105.147919554564\n",
       "...            ...               ...               ...\n",
       "1722        1722.0  237.787657630370  101.883592984834\n",
       "1723        1723.0  237.787657630370  101.883592984834\n",
       "1724        1724.0  224.199302155338  91.0451335080760\n",
       "1725        1725.0  213.081389035987  87.2208876962760\n",
       "1726        1726.0  213.081389035987  87.2208876962760\n",
       "\n",
       "[1727 rows x 3 columns]"
      ]
     },
     "execution_count": 13,
     "metadata": {},
     "output_type": "execute_result"
    }
   ],
   "source": [
    "df_body"
   ]
  },
  {
   "cell_type": "markdown",
   "metadata": {},
   "source": [
    "## Oog fixaties berekenen"
   ]
  },
  {
   "cell_type": "code",
   "execution_count": 14,
   "metadata": {},
   "outputs": [
    {
     "name": "stderr",
     "output_type": "stream",
     "text": [
      "c:\\users\\robbe brandse\\appdata\\local\\programs\\python\\python37\\lib\\site-packages\\ipykernel_launcher.py:12: SettingWithCopyWarning: \n",
      "A value is trying to be set on a copy of a slice from a DataFrame.\n",
      "Try using .loc[row_indexer,col_indexer] = value instead\n",
      "\n",
      "See the caveats in the documentation: https://pandas.pydata.org/pandas-docs/stable/user_guide/indexing.html#returning-a-view-versus-a-copy\n",
      "  if sys.path[0] == '':\n",
      "c:\\users\\robbe brandse\\appdata\\local\\programs\\python\\python37\\lib\\site-packages\\ipykernel_launcher.py:16: SettingWithCopyWarning: \n",
      "A value is trying to be set on a copy of a slice from a DataFrame.\n",
      "Try using .loc[row_indexer,col_indexer] = value instead\n",
      "\n",
      "See the caveats in the documentation: https://pandas.pydata.org/pandas-docs/stable/user_guide/indexing.html#returning-a-view-versus-a-copy\n",
      "  app.launch_new_instance()\n",
      "c:\\users\\robbe brandse\\appdata\\local\\programs\\python\\python37\\lib\\site-packages\\pandas\\core\\frame.py:3997: SettingWithCopyWarning: \n",
      "A value is trying to be set on a copy of a slice from a DataFrame\n",
      "\n",
      "See the caveats in the documentation: https://pandas.pydata.org/pandas-docs/stable/user_guide/indexing.html#returning-a-view-versus-a-copy\n",
      "  errors=errors,\n"
     ]
    }
   ],
   "source": [
    "def fixations(row, threshhold):\n",
    "    if row.eye_dist <= threshhold:\n",
    "        return 1\n",
    "    else:\n",
    "        return 0\n",
    "\n",
    "def get_fixations(df_body):\n",
    "    df_body['px_eye_2d_x2'] = df_body['px_eye_2d_x'].shift(-1)\n",
    "    df_body['px_eye_2d_y2'] = df_body['px_eye_2d_y'].shift(-1)\n",
    "    df_body = df_body[:-1] #laatste row deleten omdat het nu lege waarden bevat\n",
    "    \n",
    "    df_body['eye_dist'] = ((df_body['px_eye_2d_x2'] - df_body['px_eye_2d_x'])**2) + ((df_body['px_eye_2d_y2'] - df_body['px_eye_2d_y2'])**2 )\n",
    "    q1 = np.percentile(df_body['eye_dist'], 25)\n",
    "    q3 = np.percentile(df_body['eye_dist'], 75)\n",
    "    threshhold= q3 + (1.5 * (q3 - q1))\n",
    "    df_body['Fixation'] = df_body.apply(lambda x:fixations(x, threshhold), axis=1)\n",
    "    df_body.drop([\"px_eye_2d_x2\", \"px_eye_2d_y2\"], axis=1, inplace=True)\n",
    "    \n",
    "    return df_body\n",
    "df_body = get_fixations(df_body)"
   ]
  },
  {
   "cell_type": "code",
   "execution_count": 15,
   "metadata": {},
   "outputs": [
    {
     "data": {
      "text/html": [
       "<div>\n",
       "<style scoped>\n",
       "    .dataframe tbody tr th:only-of-type {\n",
       "        vertical-align: middle;\n",
       "    }\n",
       "\n",
       "    .dataframe tbody tr th {\n",
       "        vertical-align: top;\n",
       "    }\n",
       "\n",
       "    .dataframe thead th {\n",
       "        text-align: right;\n",
       "    }\n",
       "</style>\n",
       "<table border=\"1\" class=\"dataframe\">\n",
       "  <thead>\n",
       "    <tr style=\"text-align: right;\">\n",
       "      <th></th>\n",
       "      <th>frame_number</th>\n",
       "      <th>px_eye_2d_x</th>\n",
       "      <th>px_eye_2d_y</th>\n",
       "      <th>eye_dist</th>\n",
       "      <th>Fixation</th>\n",
       "    </tr>\n",
       "  </thead>\n",
       "  <tbody>\n",
       "    <tr>\n",
       "      <th>0</th>\n",
       "      <td>0.0</td>\n",
       "      <td>199.470239580704</td>\n",
       "      <td>105.636970785404</td>\n",
       "      <td>0</td>\n",
       "      <td>1</td>\n",
       "    </tr>\n",
       "    <tr>\n",
       "      <th>1</th>\n",
       "      <td>1.0</td>\n",
       "      <td>199.470239580704</td>\n",
       "      <td>105.636970785404</td>\n",
       "      <td>0.206430113082218</td>\n",
       "      <td>1</td>\n",
       "    </tr>\n",
       "    <tr>\n",
       "      <th>2</th>\n",
       "      <td>2.0</td>\n",
       "      <td>199.924585388523</td>\n",
       "      <td>105.564437509804</td>\n",
       "      <td>10.1109934031629</td>\n",
       "      <td>1</td>\n",
       "    </tr>\n",
       "    <tr>\n",
       "      <th>3</th>\n",
       "      <td>3.0</td>\n",
       "      <td>203.104364217807</td>\n",
       "      <td>105.147919554564</td>\n",
       "      <td>0</td>\n",
       "      <td>1</td>\n",
       "    </tr>\n",
       "    <tr>\n",
       "      <th>4</th>\n",
       "      <td>4.0</td>\n",
       "      <td>203.104364217807</td>\n",
       "      <td>105.147919554564</td>\n",
       "      <td>4.93416638656290</td>\n",
       "      <td>1</td>\n",
       "    </tr>\n",
       "    <tr>\n",
       "      <th>...</th>\n",
       "      <td>...</td>\n",
       "      <td>...</td>\n",
       "      <td>...</td>\n",
       "      <td>...</td>\n",
       "      <td>...</td>\n",
       "    </tr>\n",
       "    <tr>\n",
       "      <th>1721</th>\n",
       "      <td>1721.0</td>\n",
       "      <td>242.554452174718</td>\n",
       "      <td>101.401189688395</td>\n",
       "      <td>22.7223302280233</td>\n",
       "      <td>1</td>\n",
       "    </tr>\n",
       "    <tr>\n",
       "      <th>1722</th>\n",
       "      <td>1722.0</td>\n",
       "      <td>237.787657630370</td>\n",
       "      <td>101.883592984834</td>\n",
       "      <td>0</td>\n",
       "      <td>1</td>\n",
       "    </tr>\n",
       "    <tr>\n",
       "      <th>1723</th>\n",
       "      <td>1723.0</td>\n",
       "      <td>237.787657630370</td>\n",
       "      <td>101.883592984834</td>\n",
       "      <td>184.643404515822</td>\n",
       "      <td>0</td>\n",
       "    </tr>\n",
       "    <tr>\n",
       "      <th>1724</th>\n",
       "      <td>1724.0</td>\n",
       "      <td>224.199302155338</td>\n",
       "      <td>91.0451335080760</td>\n",
       "      <td>123.607992129446</td>\n",
       "      <td>1</td>\n",
       "    </tr>\n",
       "    <tr>\n",
       "      <th>1725</th>\n",
       "      <td>1725.0</td>\n",
       "      <td>213.081389035987</td>\n",
       "      <td>87.2208876962760</td>\n",
       "      <td>0</td>\n",
       "      <td>1</td>\n",
       "    </tr>\n",
       "  </tbody>\n",
       "</table>\n",
       "<p>1726 rows × 5 columns</p>\n",
       "</div>"
      ],
      "text/plain": [
       "      frame_number       px_eye_2d_x       px_eye_2d_y           eye_dist  \\\n",
       "0              0.0  199.470239580704  105.636970785404                  0   \n",
       "1              1.0  199.470239580704  105.636970785404  0.206430113082218   \n",
       "2              2.0  199.924585388523  105.564437509804   10.1109934031629   \n",
       "3              3.0  203.104364217807  105.147919554564                  0   \n",
       "4              4.0  203.104364217807  105.147919554564   4.93416638656290   \n",
       "...            ...               ...               ...                ...   \n",
       "1721        1721.0  242.554452174718  101.401189688395   22.7223302280233   \n",
       "1722        1722.0  237.787657630370  101.883592984834                  0   \n",
       "1723        1723.0  237.787657630370  101.883592984834   184.643404515822   \n",
       "1724        1724.0  224.199302155338  91.0451335080760   123.607992129446   \n",
       "1725        1725.0  213.081389035987  87.2208876962760                  0   \n",
       "\n",
       "      Fixation  \n",
       "0            1  \n",
       "1            1  \n",
       "2            1  \n",
       "3            1  \n",
       "4            1  \n",
       "...        ...  \n",
       "1721         1  \n",
       "1722         1  \n",
       "1723         0  \n",
       "1724         1  \n",
       "1725         1  \n",
       "\n",
       "[1726 rows x 5 columns]"
      ]
     },
     "execution_count": 15,
     "metadata": {},
     "output_type": "execute_result"
    }
   ],
   "source": [
    "df_body"
   ]
  },
  {
   "cell_type": "markdown",
   "metadata": {},
   "source": [
    "## Object detection"
   ]
  },
  {
   "cell_type": "code",
   "execution_count": 16,
   "metadata": {},
   "outputs": [],
   "source": [
    "def labelimg(img, data):\n",
    "    height, width, channels = img.shape\n",
    "\n",
    "    # Detecting objects\n",
    "    blob = cv.dnn.blobFromImage(img, 0.00392, (416, 416), (0, 0, 0), True, crop=False)\n",
    "    net.setInput(blob)\n",
    "    outs = net.forward(output_layers)\n",
    "\n",
    "    # Showing informations on the screen\n",
    "    class_ids, confidences, boxes = [], [], []\n",
    "    # confidences = []\n",
    "    # boxes = []\n",
    "    for out in outs:\n",
    "        for detection in out:\n",
    "            scores = detection[5:]\n",
    "            class_id = np.argmax(scores)\n",
    "            confidence = scores[class_id]\n",
    "            if confidence > 0.3:\n",
    "                # Object detected\n",
    "#                 print(class_id)\n",
    "                center_x = int(detection[0] * width)\n",
    "                center_y = int(detection[1] * height)\n",
    "                w = int(detection[2] * width)\n",
    "                h = int(detection[3] * height)\n",
    "\n",
    "                # Rectangle coordinates\n",
    "                x = int(center_x - w / 2)\n",
    "                y = int(center_y - h / 2)\n",
    "\n",
    "                boxes.append([x, y, w, h])\n",
    "                confidences.append(float(confidence))\n",
    "                class_ids.append(class_id)\n",
    "                \n",
    "\n",
    "    indexes = cv.dnn.NMSBoxes(boxes, confidences, 0.5, 0.4)\n",
    "#     print(indexes)\n",
    "    font = cv.FONT_HERSHEY_PLAIN\n",
    "    for i in range(len(boxes)):\n",
    "        if i in indexes:\n",
    "            x, y, w, h = boxes[i]\n",
    "            label = str(classes[class_ids[i]])\n",
    "            color = colors[class_ids[i]]\n",
    "            cv.rectangle(img, (x, y), (x + w, y + h), color, 2)\n",
    "            cv.putText(img, label, (x, y + 30), font, 2, color, 2)\n",
    "\n",
    "            if int(data[\"px_eye_2d_x\"]) in range(x, x + w) and int(data[\"px_eye_2d_y\"]) in range(y, y + h):\n",
    "                print(\"looking at: %s        \" % (label), end=\"\\r\")\n",
    "                data[\"objectId\"] = class_ids[i]\n",
    "                data[\"object\"] = classes[int(class_ids[i])]\n",
    "\n",
    "    return img, data"
   ]
  },
  {
   "cell_type": "code",
   "execution_count": 17,
   "metadata": {},
   "outputs": [],
   "source": [
    "def create_video(data, video, frame):\n",
    "    if os.path.exists(video.output_file):\n",
    "        os.remove(video.output_file)\n",
    "\n",
    "    cv.namedWindow(video.window_name)\n",
    "\n",
    "    cap = cv.VideoCapture(video.input_file)\n",
    "    codec = cv.VideoWriter_fourcc('m', 'p', '4', 'v')\n",
    "    out = cv.VideoWriter(video.output_file, codec, frame.rate, (frame.width, frame.height))  # MP4\n",
    "    \n",
    "    df_body[\"objectId\"] = np.nan\n",
    "    df_body[\"object\"] = np.nan\n",
    "    current_frame = 0\n",
    "    try:\n",
    "        while cap.isOpened():\n",
    "            ret, img = cap.read()\n",
    "            if ret is True and current_frame < video.nr_of_frames:\n",
    "                if data['Fixation'][current_frame] == 1: #wel een fixation\n",
    "                    img, serie = labelimg(img, data.iloc[[current_frame]])\n",
    "                    data.iloc[[current_frame]] = serie\n",
    "                    cv.circle(img, (data[\"px_eye_2d_x\"][current_frame], data[\"px_eye_2d_y\"][current_frame]), 30, (255, 255, 255), 3)\n",
    "                \n",
    "                if data['Fixation'][current_frame] == 0: #geen fixation\n",
    "                    cv.circle(img, (data[\"px_eye_2d_x\"][current_frame], data[\"px_eye_2d_y\"][current_frame]), 30, (0, 0, 255), 3)\n",
    "                \n",
    "                out.write(img)\n",
    "                cv.imshow(video.window_name, img)\n",
    "                \n",
    "                if cv.waitKey(1) & 0xFF == ord('q'):\n",
    "                    break\n",
    "                current_frame = current_frame + 1\n",
    "            else:\n",
    "                break\n",
    "\n",
    "        cap.release()\n",
    "        out.release()\n",
    "        cv.destroyAllWindows()\n",
    "    except Exception as e:\n",
    "        print('error')\n",
    "        print(e)\n",
    "        cap.release()\n",
    "        out.release()\n",
    "        cv.destroyAllWindows()\n",
    "    return data"
   ]
  },
  {
   "cell_type": "code",
   "execution_count": 18,
   "metadata": {},
   "outputs": [
    {
     "name": "stderr",
     "output_type": "stream",
     "text": [
      "c:\\users\\robbe brandse\\appdata\\local\\programs\\python\\python37\\lib\\site-packages\\ipykernel_launcher.py:11: SettingWithCopyWarning: \n",
      "A value is trying to be set on a copy of a slice from a DataFrame.\n",
      "Try using .loc[row_indexer,col_indexer] = value instead\n",
      "\n",
      "See the caveats in the documentation: https://pandas.pydata.org/pandas-docs/stable/user_guide/indexing.html#returning-a-view-versus-a-copy\n",
      "  # This is added back by InteractiveShellApp.init_path()\n",
      "c:\\users\\robbe brandse\\appdata\\local\\programs\\python\\python37\\lib\\site-packages\\ipykernel_launcher.py:12: SettingWithCopyWarning: \n",
      "A value is trying to be set on a copy of a slice from a DataFrame.\n",
      "Try using .loc[row_indexer,col_indexer] = value instead\n",
      "\n",
      "See the caveats in the documentation: https://pandas.pydata.org/pandas-docs/stable/user_guide/indexing.html#returning-a-view-versus-a-copy\n",
      "  if sys.path[0] == '':\n"
     ]
    },
    {
     "name": "stdout",
     "output_type": "stream",
     "text": [
      "looking at: Jam        \r"
     ]
    },
    {
     "name": "stderr",
     "output_type": "stream",
     "text": [
      "c:\\users\\robbe brandse\\appdata\\local\\programs\\python\\python37\\lib\\site-packages\\ipykernel_launcher.py:48: SettingWithCopyWarning: \n",
      "A value is trying to be set on a copy of a slice from a DataFrame.\n",
      "Try using .loc[row_indexer,col_indexer] = value instead\n",
      "\n",
      "See the caveats in the documentation: https://pandas.pydata.org/pandas-docs/stable/user_guide/indexing.html#returning-a-view-versus-a-copy\n",
      "c:\\users\\robbe brandse\\appdata\\local\\programs\\python\\python37\\lib\\site-packages\\ipykernel_launcher.py:49: SettingWithCopyWarning: \n",
      "A value is trying to be set on a copy of a slice from a DataFrame.\n",
      "Try using .loc[row_indexer,col_indexer] = value instead\n",
      "\n",
      "See the caveats in the documentation: https://pandas.pydata.org/pandas-docs/stable/user_guide/indexing.html#returning-a-view-versus-a-copy\n",
      "c:\\users\\robbe brandse\\appdata\\local\\programs\\python\\python37\\lib\\site-packages\\pandas\\core\\indexing.py:966: SettingWithCopyWarning: \n",
      "A value is trying to be set on a copy of a slice from a DataFrame.\n",
      "Try using .loc[row_indexer,col_indexer] = value instead\n",
      "\n",
      "See the caveats in the documentation: https://pandas.pydata.org/pandas-docs/stable/user_guide/indexing.html#returning-a-view-versus-a-copy\n",
      "  self.obj[item] = s\n"
     ]
    },
    {
     "name": "stdout",
     "output_type": "stream",
     "text": [
      "looking at: Jam          \r"
     ]
    }
   ],
   "source": [
    "#model goedzetten\n",
    "net = cv.dnn.readNet(\"weights/TinyWeightsV4.weights\", \"configs/TinyConfig.cfg\")  # weight en configuration file ophalen\n",
    "classes = [\"Jam\", \"Knife\", \"Bread\", \"Choco\"]\n",
    "\n",
    "layer_names = net.getLayerNames()\n",
    "output_layers = [layer_names[i[0] - 1] for i in net.getUnconnectedOutLayers()]\n",
    "colors = np.random.uniform(0, 255, size=(len(classes), 3))\n",
    "\n",
    "df_body = create_video(df_body, video_obj, frame_obj)"
   ]
  },
  {
   "cell_type": "code",
   "execution_count": 19,
   "metadata": {},
   "outputs": [
    {
     "data": {
      "text/plain": [
       "<matplotlib.axes._subplots.AxesSubplot at 0x1349749b5c0>"
      ]
     },
     "execution_count": 19,
     "metadata": {},
     "output_type": "execute_result"
    },
    {
     "data": {
      "image/png": "[encoded data removed]",
      "text/plain": [
       "<Figure size 432x288 with 1 Axes>"
      ]
     },
     "metadata": {
      "needs_background": "light"
     },
     "output_type": "display_data"
    }
   ],
   "source": [
    "import seaborn as sns\n",
    "import matplotlib.pyplot as plt\n",
    "\n",
    "sns.countplot(data = df_body, x=\"object\")"
   ]
  },
  {
   "cell_type": "code",
   "execution_count": 20,
   "metadata": {},
   "outputs": [],
   "source": [
    "def gantplot(df_body):\n",
    "    usefull = df_body.dropna()\n",
    "    viewed_classes = usefull['object'].unique()\n",
    "    graph_data = {}\n",
    "    for classname in viewed_classes:\n",
    "        graph_data[classname]= usefull[usefull['object'] == classname]\n",
    "        \n",
    "    fig, gnt = plt.subplots() \n",
    "\n",
    "    gnt.set_yticks(np.arange(10, len(viewed_classes)*10+1,10))\n",
    "    gnt.set_yticklabels(viewed_classes) \n",
    "    gnt.set_xlabel('tijdverloop') \n",
    "\n",
    "    gnt.set_yticklabels(viewed_classes) \n",
    "    gnt.grid(True) \n",
    "\n",
    "    colors= ['tab:blue','tab:red','tab:purple','tab:orange']\n",
    "    for key, val in graph_data.items():\n",
    "        output = [(row['frame_number'], 1) for index, row in val.iterrows()]\n",
    "        nr = list(viewed_classes).index(key)\n",
    "        gnt.broken_barh(output, (nr*10 + 5, 10),facecolors =colors[nr] )\n",
    "    plt.show()"
   ]
  },
  {
   "cell_type": "code",
   "execution_count": 21,
   "metadata": {},
   "outputs": [
    {
     "data": {
      "image/png": "[encoded data removed]",
      "text/plain": [
       "<Figure size 432x288 with 1 Axes>"
      ]
     },
     "metadata": {
      "needs_background": "light"
     },
     "output_type": "display_data"
    }
   ],
   "source": [
    "gantplot(df_body)"
   ]
  },
  {
   "cell_type": "code",
   "execution_count": 24,
   "metadata": {},
   "outputs": [],
   "source": [
    "def interpolate(data, max_pointRange):\n",
    "    previous_point = {\"index\": 0, \"object\": None}\n",
    "    for index, row in data.iterrows():\n",
    "        if previous_point['object'] == None and row['object'] != None:\n",
    "            previous_point['object'] = row['object']\n",
    "            previous_point['index'] = row['frame_number']\n",
    "\n",
    "        if row['object'] != None:\n",
    "            if previous_point['object'] == row['object']:\n",
    "                if int(row['frame_number'] - previous_point['index']) in range(2, max_pointRange+1):\n",
    "                    for frame in range(int(previous_point['index'] +1) , int(row['frame_number'])):\n",
    "                        data.at[frame, \"object\"] = row['object']\n",
    "                        data.at[frame, \"objectId\"] = classes.index(row['object'])\n",
    "\n",
    "                previous_point['object'] = row['object']\n",
    "                previous_point['index'] = row['frame_number']\n",
    "    return data\n",
    "\n",
    "df_body = interpolate(df_body, 30)"
   ]
  },
  {
   "cell_type": "code",
   "execution_count": 25,
   "metadata": {},
   "outputs": [
    {
     "data": {
      "image/png": "[encoded data removed]",
      "text/plain": [
       "<Figure size 432x288 with 1 Axes>"
      ]
     },
     "metadata": {
      "needs_background": "light"
     },
     "output_type": "display_data"
    }
   ],
   "source": [
    "gantplot(df_body)"
   ]
  },
  {
   "cell_type": "code",
   "execution_count": null,
   "metadata": {},
   "outputs": [],
   "source": []
  },
  {
   "cell_type": "code",
   "execution_count": null,
   "metadata": {},
   "outputs": [],
   "source": []
  }
 ],
 "metadata": {
  "kernelspec": {
   "display_name": "Python 3",
   "language": "python",
   "name": "python3"
  },
  "language_info": {
   "codemirror_mode": {
    "name": "ipython",
    "version": 3
   },
   "file_extension": ".py",
   "mimetype": "text/x-python",
   "name": "python",
   "nbconvert_exporter": "python",
   "pygments_lexer": "ipython3",
   "version": "3.7.3"
  }
 },
 "nbformat": 4,
 "nbformat_minor": 4
}
